{
  "nbformat": 4,
  "nbformat_minor": 0,
  "metadata": {
    "colab": {
      "provenance": [],
      "authorship_tag": "ABX9TyOk6g59CWriIyg6l5wUSkjU",
      "include_colab_link": true
    },
    "kernelspec": {
      "name": "python3",
      "display_name": "Python 3"
    },
    "language_info": {
      "name": "python"
    }
  },
  "cells": [
    {
      "cell_type": "markdown",
      "metadata": {
        "id": "view-in-github",
        "colab_type": "text"
      },
      "source": [
        "<a href=\"https://colab.research.google.com/github/akhilavantakula/special-octo-computing-machine/blob/main/pdsa_oppe_practice.ipynb\" target=\"_parent\"><img src=\"https://colab.research.google.com/assets/colab-badge.svg\" alt=\"Open In Colab\"/></a>"
      ]
    },
    {
      "cell_type": "code",
      "execution_count": null,
      "metadata": {
        "id": "IWWWa8Nj16EZ"
      },
      "outputs": [],
      "source": [
        "def findConnectionLevel(n, Amat, px, py):\n",
        "  queue = []\n",
        "  visited = {i: False for i in range(n)}\n",
        "  queue.append((px, 0))\n",
        "  visited[px] = True\n",
        "  while (queue):\n",
        "    a,b=queue.pop(0)\n",
        "    if a == py:\n",
        "        return b\n",
        "    for i in range(n):\n",
        "      if Amat[a][i] == 1 and visited[i] == False:\n",
        "        visited[i] = True\n",
        "        queue.append((i, b + 1))\n",
        "\n",
        "vertices = int(input())\n",
        "Amat = []\n",
        "for i in range(vertices):\n",
        "  row = [int(item) for item in input().split(\" \")]\n",
        "  Amat.append(row)\n",
        "personX = int(input())\n",
        "personY = int(input())\n",
        "print(findConnectionLevel(vertices, Amat, personX, personY))"
      ]
    },
    {
      "cell_type": "code",
      "source": [
        "def dfs(city,alist,visited,path):\n",
        "  visited[city]=False\n",
        "  path.append(city)\n",
        "  max_path=path[:]\n",
        "  for neighbour in alist[city]:\n",
        "    if not visited[neighbour]:\n",
        "      new_path=dfs(neighbour,alist,visited,path)\n",
        "      if len(new_path)>len(max_path):\n",
        "        max_path=new_path\n",
        "  visited[city]=False\n",
        "  path.pop()\n",
        "  return max_path\n",
        "def longhourney(alist):\n",
        "  visited={city:False for city in alist.keys()}\n",
        "  max_path=[]\n",
        "  for city in alist.keys():\n",
        "    path=[]\n",
        "    new_path=dfs(city,alist,visited,path)\n",
        "    if len(new_path)>len(max_path):\n",
        "      max_path=new_path\n",
        "  return max_path"
      ],
      "metadata": {
        "id": "voXF8Scy3E_V"
      },
      "execution_count": null,
      "outputs": []
    },
    {
      "cell_type": "code",
      "source": [
        "def findComponents_undirectedGraph(v, e):\n",
        "    components = 0\n",
        "    visited = {vertex: False for vertex in v}\n",
        "\n",
        "    def dfs(vertex):\n",
        "        visited[vertex] = True\n",
        "        for edge in e:\n",
        "            if edge[0] == vertex and not visited[edge[1]]:\n",
        "                dfs(edge[1])\n",
        "\n",
        "    for vertex in v:\n",
        "        if not visited[vertex]:\n",
        "            components += 1\n",
        "            dfs(vertex)\n",
        "\n",
        "    return components"
      ],
      "metadata": {
        "id": "fOUN2OeJ59Gk"
      },
      "execution_count": null,
      "outputs": []
    },
    {
      "cell_type": "code",
      "source": [
        "def findAllPaths(vertices,getlist,source,destination):\n",
        "  def dfs(vertex,current_path):\n",
        "    visited[vertex]=True\n",
        "    current_path.append(vertex)\n",
        "    if vertex == destination:\n",
        "      path.append(current_path.copy())\n",
        "    else:\n",
        "        for neighbor in getlist[vertex]:\n",
        "            if not visited[neighbor]:\n",
        "                dfs(neighbor, current_path)\n",
        "    current_path.pop()\n",
        "    visited[vertex] = False\n",
        "  visited={i:False for i in vertices}\n",
        "  path=[]\n",
        "  dfs(source,[])\n",
        "  return path\n"
      ],
      "metadata": {
        "id": "I8fIKs6NApK0"
      },
      "execution_count": null,
      "outputs": []
    },
    {
      "cell_type": "code",
      "source": [],
      "metadata": {
        "id": "Gy7OjFlU5Tab"
      },
      "execution_count": null,
      "outputs": []
    },
    {
      "cell_type": "code",
      "source": [
        "def findMasterTank(tanks,pipes):\n",
        "  for i in tanks:\n",
        "    queue=[]\n",
        "    visited={tank:False for tank in tanks}\n",
        "    queue.append(i)\n",
        "    visited[i]=True\n",
        "    while queue:\n",
        "      a=queue.pop(0)\n",
        "      for j in pipes:\n",
        "        if j[0]==a and not visited[j[1]]:\n",
        "          queue.append(j[1])\n",
        "          visited[j[1]]=True\n",
        "    if all(visited):\n",
        "      return i\n",
        "  return -1\n",
        "v = [item for item in input().split(\" \")]\n",
        "#Tanks(vertices) numbered from 1 to n in string format.\n",
        "numberOfEdges = int(input())\n",
        "e = []\n",
        "for i in range(numberOfEdges):\n",
        "  s = input().split(\" \")\n",
        "  e.append((s[0], s[1]))\n",
        "print(findMasterTank(v, e))\n"
      ],
      "metadata": {
        "id": "wqPdZUIo_Ush"
      },
      "execution_count": null,
      "outputs": []
    },
    {
      "cell_type": "code",
      "source": [
        "def kruskals(wlist):\n",
        "  edges,components,te=[],{},[]\n",
        "  for u in wlist.keys():\n",
        "    edges.extend([d,u,v] for (v,d) in wlist[u])\n",
        "    comonents[u]=u\n",
        "  edges.sort()\n",
        "  for (d,u,v) in edges:\n",
        "    if components(u)!=components(v):\n",
        "      te.append((u,v))\n",
        "      c=components(u)\n",
        "    for w in wlist.keys():\n",
        "      if components[w]==c:\n",
        "        components[w]==components[v]\n",
        "  return te\n",
        "def fiberlength(wlist):\n",
        "  r=kruskals(wlist)\n",
        "  s=0\n",
        "  for e in r:\n",
        "    for ed in wlist[e[0]]:\n",
        "      if ed[0]==e[1]:\n",
        "        s+=ed[1]\n",
        "  return s"
      ],
      "metadata": {
        "id": "CWcQuOeSKI9H"
      },
      "execution_count": null,
      "outputs": []
    },
    {
      "cell_type": "code",
      "source": [
        "def krushkals(wlist):\n",
        "  edge,component,TE=[],{},[]\n",
        "  for u in wlist.keys():\n",
        "    edge.extend([d,u,v] for (v,d) in wlist[u])\n",
        "    component[u]=u\n",
        "  edge.sort()\n",
        "  for (d,u,v) in edge:\n",
        "    if component(u)!=component(v):\n",
        "      TE.append((u,v))\n",
        "      c=component(u)\n",
        "    for w in wlist.keys():\n",
        "      if component[w]==c:\n",
        "        component[w]=component[v]\n",
        "  return TE\n"
      ],
      "metadata": {
        "id": "o7_zB2fMpITh"
      },
      "execution_count": null,
      "outputs": []
    }
  ]
}